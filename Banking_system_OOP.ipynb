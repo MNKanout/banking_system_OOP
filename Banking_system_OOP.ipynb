{
 "cells": [
  {
   "cell_type": "markdown",
   "metadata": {},
   "source": [
    "# Banking system (Proof of concept).\n",
    "# Object oriented programming (OOP) and Design patterns."
   ]
  },
  {
   "cell_type": "markdown",
   "metadata": {},
   "source": [
    "## ABCBank"
   ]
  },
  {
   "cell_type": "markdown",
   "metadata": {},
   "source": [
    "In this bank simulation, we will demonstrate a proof of concept to an ABCBank where it will offer customers various customizable and expandable financial services using the power of OOP and design patterns. During this demonstration, we will go step by step explaining what we are doing, and why we are doing it."
   ]
  },
  {
   "cell_type": "markdown",
   "metadata": {},
   "source": [
    "## Customers"
   ]
  },
  {
   "cell_type": "markdown",
   "metadata": {},
   "source": [
    "I have choosen to start with customers implementation as it is the first building block in this simulation. You can have a customer without an account, but you can't have an account without a customer.\n",
    "\n",
    "We are going to create a new class called Customer. This class will represent the customer object in the banking system. Customers will have to provide their personal information which will be validated in the banking system to make sure that only valid members with valid information can become new customers in the bank. The banking system will give customers the ability to change some of their personal information while preventing them from changing others."
   ]
  },
  {
   "cell_type": "markdown",
   "metadata": {},
   "source": [
    "### Implementation\n",
    "In this class we are going to use encaplation to make sure that our rules are always applied when creating a new customer. We are going to set all atterbutes to private such that they only can be accessed and altered through the get and set methods."
   ]
  },
  {
   "cell_type": "code",
   "execution_count": 1,
   "metadata": {},
   "outputs": [],
   "source": [
    "class Customer:\n",
    "    '''Represent the customer object in the banking system'''\n",
    "    __customers_count = 0 # Variable that holds the number of customers in the bank to give each coustomer a uniqe ID\n",
    "    \n",
    "    def __init__(self, first_name, last_name, age, marital_status, education_years, annual_salary):\n",
    "        self.__customer_id = self.new_id()\n",
    "        # Using setter and getter methods to assign new values\n",
    "        self.set_first_name(first_name)\n",
    "        self.set_last_name(last_name)\n",
    "        self.set_age(age)\n",
    "        self.set_marital_status(marital_status)\n",
    "        self.set_education_years(education_years)\n",
    "        self.set_annual_salary(annual_salary)\n",
    "        \n",
    "    # Method that keeps track of the number of customers in the bank, and assigns a new id to each new customer.   \n",
    "    @classmethod    \n",
    "    def new_id(cls):\n",
    "        cls.__customers_count += 1\n",
    "        new_id = cls.__customers_count\n",
    "        return new_id\n",
    "    \n",
    "    def get_id(self):\n",
    "        return self.__customer_id\n",
    "    \n",
    "    # Each attribute has two methods:\n",
    "    # Get method to call the attribute.\n",
    "    # Set method to set a new value to the attribute.\n",
    "    \n",
    "    def get_first_name(self):\n",
    "        return self.__first_name\n",
    "    \n",
    "    def set_first_name(self, first_name):\n",
    "        if (len(first_name) < 2 or len(first_name) > 16) : # Inforcing some basic rules \n",
    "            raise ValueError('Invalid first name! First name should be between 2 and 16 characters')\n",
    "        else:\n",
    "            self.__first_name = first_name\n",
    "    \n",
    "    def get_last_name(self):\n",
    "        return self.__last_name\n",
    "    \n",
    "    def set_last_name(self, last_name):\n",
    "        self.__last_name = last_name\n",
    "        \n",
    "    @property   # A quick way to access the full name of the customer will be using the property decorator \n",
    "    def full_name(self):\n",
    "        return (f'{self.__first_name} {self.__last_name}')\n",
    "\n",
    "    def get_age(self):\n",
    "        return self.__age\n",
    "\n",
    "    def set_age(self, age):\n",
    "        if age < 18: # A simple demonstration of enforcing some rules to new customers\n",
    "            raise ValueError('The customer has to be at least 18 years old to open a bank account')\n",
    "            \n",
    "        else:\n",
    "            self.__age = age\n",
    "            \n",
    "    def get_marital_status(self):\n",
    "        return self.__martial_status\n",
    "    \n",
    "    def set_marital_status(self, martial_status):\n",
    "        self.__martial_status = martial_status.lower()\n",
    "    \n",
    "    def get_annual_salary(self):\n",
    "         return self.__annual_salary\n",
    "    \n",
    "    def set_annual_salary(self, annual_salary):\n",
    "        self.__annual_salary = annual_salary\n",
    "        \n",
    "    def get_education_years(self):\n",
    "         return self.__education_years\n",
    "    \n",
    "    def set_education_years(self, education_years):\n",
    "        self.__education_years = education_years\n",
    "\n",
    "    # Giving a full description to the customer when printing its object    \n",
    "    def __str__(self):\n",
    "        return f'''CustomerID: {str(self.__customer_id).zfill(5)}\n",
    "First Name:{self.__first_name}\n",
    "Last Name:{self.__last_name} \n",
    "Age:{self.__age}\n",
    "Martial Status: {self.__martial_status.title()}\n",
    "Years Of Education:{self.__education_years}\n",
    "Annual Salary:{self.__annual_salary}\\n'''"
   ]
  },
  {
   "cell_type": "markdown",
   "metadata": {},
   "source": [
    "### Customer demonstration"
   ]
  },
  {
   "cell_type": "code",
   "execution_count": 2,
   "metadata": {},
   "outputs": [],
   "source": [
    "customer1 = Customer('Bob', 'jonson',28,'Married',14,250000)\n",
    "customer2 = Customer('Jon','Doea',18,'Single',11,120000)\n",
    "customer3 = Customer('Jon','Doea',51,'Married',11,320000)"
   ]
  },
  {
   "cell_type": "code",
   "execution_count": 3,
   "metadata": {},
   "outputs": [
    {
     "name": "stdout",
     "output_type": "stream",
     "text": [
      "CustomerID: 00001\n",
      "First Name:Bob\n",
      "Last Name:jonson \n",
      "Age:28\n",
      "Martial Status: Married\n",
      "Years Of Education:14\n",
      "Annual Salary:250000\n",
      "\n",
      "CustomerID: 00002\n",
      "First Name:Jon\n",
      "Last Name:Doea \n",
      "Age:18\n",
      "Martial Status: Single\n",
      "Years Of Education:11\n",
      "Annual Salary:120000\n",
      "\n",
      "CustomerID: 00003\n",
      "First Name:Jon\n",
      "Last Name:Doea \n",
      "Age:51\n",
      "Martial Status: Married\n",
      "Years Of Education:11\n",
      "Annual Salary:320000\n",
      "\n"
     ]
    }
   ],
   "source": [
    "print(customer1)\n",
    "print(customer2)\n",
    "print(customer3)"
   ]
  },
  {
   "cell_type": "markdown",
   "metadata": {},
   "source": [
    "### Importance of the encapsulation"
   ]
  },
  {
   "cell_type": "code",
   "execution_count": 4,
   "metadata": {},
   "outputs": [
    {
     "name": "stdout",
     "output_type": "stream",
     "text": [
      "CustomerID: 00001\n",
      "First Name:Bob\n",
      "Last Name:jonson \n",
      "Age:28\n",
      "Martial Status: Married\n",
      "Years Of Education:14\n",
      "Annual Salary:250000\n",
      "\n"
     ]
    }
   ],
   "source": [
    "# Demonstrating the importance of the encapsulation\n",
    "# Changing the value of customer 1 attributes without using the setter methods\n",
    "customer1.__first_name = \"Paul\"\n",
    "customer1.__lastname = \"moca\"\n",
    "customer1.__age = 30\n",
    "customer1.__annual_salary = 300000\n",
    "print(customer1)"
   ]
  },
  {
   "cell_type": "markdown",
   "metadata": {},
   "source": [
    "We can see that even if we try to modify the values of customer1 attributes, the values remain the same all thanks to encapsulation."
   ]
  },
  {
   "cell_type": "code",
   "execution_count": 5,
   "metadata": {},
   "outputs": [
    {
     "data": {
      "text/plain": [
       "'Paul jonson'"
      ]
     },
     "execution_count": 5,
     "metadata": {},
     "output_type": "execute_result"
    }
   ],
   "source": [
    "# Changing the first name of customer 1 using the setter method\n",
    "customer1.set_first_name('Paul')\n",
    "customer1.full_name"
   ]
  },
  {
   "cell_type": "markdown",
   "metadata": {},
   "source": [
    "## Bank financial products"
   ]
  },
  {
   "cell_type": "markdown",
   "metadata": {},
   "source": [
    "Our ABC Bank offers two main financial products, an account, and a loan. We are going to start first with the account as it has fewer constraints for customers."
   ]
  },
  {
   "cell_type": "markdown",
   "metadata": {},
   "source": [
    "### Account\n",
    "#### Abstraction\n",
    "The account concept in the banking system, has two main types, a Current account, and a savings account. Each one of these accounts has its own unique features. We can use inheritance, in this case, to make an Account superclass and derive the Current and Saving classes from it, but this approach means that every time we make any modification to the subclass we are overriding the superclass; which makes it hard to predict the behavior in subclasses, especially in multilevel inheritance. In addition, if an error occurs in the superclass, all subclasses will malfunction as well. That is why we are going to define the concept of an account using abstraction to define what to expect from any new account type; this will give us the ability to introduce new account types without the need to change any existing code. This will result in more robust code that is closed for modification and open for extension."
   ]
  },
  {
   "cell_type": "code",
   "execution_count": 6,
   "metadata": {},
   "outputs": [],
   "source": [
    "# Importing needed library for abstraction\n",
    "from abc import ABCMeta, abstractmethod"
   ]
  },
  {
   "cell_type": "code",
   "execution_count": 7,
   "metadata": {},
   "outputs": [],
   "source": [
    "# The consept of Account that will be used by all accounts in the banking system\n",
    "class Account(metaclass = ABCMeta):\n",
    "    '''Consept of an account'''\n",
    "    \n",
    "    @abstractmethod\n",
    "    def __init__(self, customer, account_type):\n",
    "        pass\n",
    "     \n",
    "    # Show balance in the account    \n",
    "    @abstractmethod\n",
    "    def get_balance(self):\n",
    "        pass\n",
    "    \n",
    "    # deposit money into the account\n",
    "    @abstractmethod\n",
    "    def deposit(self, amount):\n",
    "        pass\n",
    "    \n",
    "    # withdraw money from the account\n",
    "    @abstractmethod\n",
    "    def withdraw(self, amount):\n",
    "        pass\n",
    "    \n",
    "    @abstractmethod\n",
    "    def __str__(self):\n",
    "        pass"
   ]
  },
  {
   "cell_type": "markdown",
   "metadata": {},
   "source": [
    "## Account Class Consept\n",
    "### Stratagy pattern and favoring composition over inheritance\n",
    "Now that we have defined the concept of an Account where all types of accounts will have to implement its abstract methods, we can talk about the different behaviors in each Account type. The Current Account type has three different classes(privileges), bronze, Silver, and Gold. We are going to code the different behaviors before the actual implementation of the Current Account. The reason we are doing that is because the 'Current Account' will not be instantiable without defining what type it is(Bronze, Silver, Gold). The way we are going to approach this implementation is by using the Strategy pattern, and by favoring composition over inheritance. This will result in the ability to introduce new Account classes without touching Current Account implementation."
   ]
  },
  {
   "cell_type": "code",
   "execution_count": 8,
   "metadata": {},
   "outputs": [],
   "source": [
    "# Defining the Stratagy pattern for the Account classes\n",
    "class AccountClassStratagy(metaclass = ABCMeta):\n",
    "    '''Consept of an account class'''\n",
    "    \n",
    "    @abstractmethod\n",
    "    def __init__(self):\n",
    "        pass\n",
    "\n",
    "    @abstractmethod\n",
    "    def withdraw(self, amount):\n",
    "        pass\n",
    "    \n",
    "    @abstractmethod\n",
    "    def __str__(self):\n",
    "        pass"
   ]
  },
  {
   "cell_type": "markdown",
   "metadata": {},
   "source": [
    "## Account interfaces"
   ]
  },
  {
   "cell_type": "code",
   "execution_count": 9,
   "metadata": {},
   "outputs": [],
   "source": [
    "class BronzeAccount(AccountClassStratagy):\n",
    "    '''Bronze account representation'''\n",
    "    def __init__(self): #\n",
    "        self._annual_fees = 300 \n",
    "        self._debit_card = 'Bronze debit card'\n",
    "        self._features = 'Bronze basic features' # Features like using abroad or bonus points when buying from certain shops\n",
    "    \n",
    "    def withdraw(self, balance ,amount):\n",
    "        if amount <= 5000: # Not allowing for more than 5000kr per withdraw in this class\n",
    "            if (balance - amount) > 0:\n",
    "                    balance -= amount\n",
    "                    return balance\n",
    "            else:\n",
    "                raise Exception(\"Insufficient funds\")\n",
    "        else:\n",
    "            raise Exception(\"This account class is limted to only 5000kr per withdraw\")\n",
    "        \n",
    "    def __str__(self):\n",
    "        return f'''Account Class:\n",
    "This Current Account comes with:\n",
    "A {self._debit_card}, and {self._features}.\n",
    "With annual fee of {self._annual_fees}kr.\\n'''\n",
    "    \n",
    "class SilverAccount(AccountClassStratagy):\n",
    "    '''Silver account representation'''\n",
    "    def __init__(self):\n",
    "        self._annual_fees = 500\n",
    "        self._debit_card = 'Silver debit card'\n",
    "        self._features = 'Bronze basic features + Sliver advanced features'\n",
    "        \n",
    "    def withdraw(self, balance ,amount):\n",
    "        if amount <= 10000: # Not allowing for more than 10000kr per withdraw in this class\n",
    "            if (balance - amount) > 0:\n",
    "                    balance -= amount\n",
    "                    return balance\n",
    "            else:\n",
    "                raise Exception(\"Insufficient funds\")\n",
    "        else:\n",
    "            raise Exception(\"This account class is limted to only 10000kr per withdraw\")\n",
    "        \n",
    "    def __str__(self):\n",
    "        return f'''Account Class:\n",
    "This Current Account comes with:\n",
    "A {self._debit_card}, and {self._features}.\n",
    "With annual fee of {self._annual_fees}kr.\\n'''\n",
    "\n",
    "class GoldAccount(AccountClassStratagy):\n",
    "    '''Gold account representation'''\n",
    "    def __init__(self):\n",
    "        self._annual_fees = 1000.00\n",
    "        self._debit_card = 'Gold debit card'\n",
    "        self._features = 'Bronze basic features + Sliver advanced features, and Gold ultimate features'\n",
    "        \n",
    "    def withdraw(self, balance ,amount):\n",
    "        if amount <= 25000: # Not allowing for more than 10000kr per withdraw in this class\n",
    "            if (balance - amount) > 0:\n",
    "                    balance -= amount\n",
    "                    return balance\n",
    "            else:\n",
    "                raise Exception(\"Insufficient funds\")\n",
    "        else:\n",
    "            raise Exception(\"This account class is limted to only 25000kr per withdraw\")\n",
    "        \n",
    "    def __str__(self):\n",
    "        return f'''Account Class:\n",
    "This Current Account comes with:\n",
    "A {self._debit_card}, and {self._features}.\n",
    "With annual fee of {self._annual_fees}kr.\\n'''"
   ]
  },
  {
   "cell_type": "code",
   "execution_count": 10,
   "metadata": {},
   "outputs": [],
   "source": [
    "# Interfaces demo\n",
    "bronze_account = BronzeAccount()\n",
    "silver_account = SilverAccount()\n",
    "gold_account = GoldAccount()"
   ]
  },
  {
   "cell_type": "code",
   "execution_count": 11,
   "metadata": {},
   "outputs": [
    {
     "name": "stdout",
     "output_type": "stream",
     "text": [
      "Account Class:\n",
      "This Current Account comes with:\n",
      "A Bronze debit card, and Bronze basic features.\n",
      "With annual fee of 300kr.\n",
      "\n",
      "Account Class:\n",
      "This Current Account comes with:\n",
      "A Silver debit card, and Bronze basic features + Sliver advanced features.\n",
      "With annual fee of 500kr.\n",
      "\n",
      "Account Class:\n",
      "This Current Account comes with:\n",
      "A Gold debit card, and Bronze basic features + Sliver advanced features, and Gold ultimate features.\n",
      "With annual fee of 1000.0kr.\n",
      "\n"
     ]
    }
   ],
   "source": [
    "print(bronze_account)\n",
    "print(silver_account)\n",
    "print(gold_account)"
   ]
  },
  {
   "cell_type": "markdown",
   "metadata": {},
   "source": [
    "This Account Class object already knows that it is a part of the Current Class. This means that we need to make sure that we have consistency in our instantiation where these Account Classes are only used with the Current Account and not the Saving Account. This will lead us to use the Factory Pattern where it will give us the consistency we need in our banking system when creating a new account. But before we go into the Factory pattern, we need to do the same thing with Saving Account Classes as the factory we will later create, will handle the instantiation process for both the Current and Saving Account."
   ]
  },
  {
   "cell_type": "markdown",
   "metadata": {},
   "source": [
    "## Saving Account interfaces"
   ]
  },
  {
   "cell_type": "code",
   "execution_count": 12,
   "metadata": {},
   "outputs": [],
   "source": [
    "# Saving Account interfaces/classes\n",
    "class Pension(AccountClassStratagy):\n",
    "    '''Pension saving account'''\n",
    "    def __init__(self):\n",
    "        self._intrest_rate = 0.35\n",
    "        self._minimum_starting_value = 10000 # The customer has to deposit to strat this saving account\n",
    "        self._features = 'Fixed income funds, and 101% of insured value in the event of the death of the account holder'\n",
    "\n",
    "    def withdraw(self, customer, balance ,amount):\n",
    "        if customer.get_age() >= 63: # The customer will not be able to withdraw money before he turns 63\n",
    "                if (balance - amount) > 0: # Make sure the customer has enough money to withdraw\n",
    "                        balance -= amount\n",
    "                        return balance # Return the new balance \n",
    "                else:\n",
    "                    raise Exception(\"Insufficient funds\")\n",
    "        else:\n",
    "            raise Exception(\"Customer has to be at least 65 years old to make a withdraw\")\n",
    "\n",
    "    def __str__(self):\n",
    "        return f'''Account Class:\n",
    "This Saving Account comes with:\n",
    "An intrest rate of {self._intrest_rate}%, and a minimum starting value of {self._minimum_starting_value}kr.\n",
    "Features include: {self._features}.'''\n",
    "    \n",
    "#################################################\n",
    "    \n",
    "class Young(AccountClassStratagy):\n",
    "    '''Saving account for young people'''\n",
    "    def __init__(self):\n",
    "        self._withdraw_counter = 0 # A counter to the amount of withdraws the customer has made.\n",
    "        self._intrest_rate = 0.55\n",
    "        self._minimum_starting_value = 1000 #The customer has to deposit to strat this saving account\n",
    "        self._features = 'Low start value, and ability to withdraw funds multiple times'\n",
    "\n",
    "    def withdraw(self, customer, balance, amount):\n",
    "        if self._withdraw_counter <= 5: # Limiting the customer to only 5 withdrawals. This can be during a certain period of time\n",
    "            if(balance - amount) > 0: # Make sure the customer has enough money to withdraw\n",
    "                balance -= amount\n",
    "                self._withdraw_counter += 1 # Incrementing the withdrawal counter every time the withdraw happens\n",
    "                return balance # returning the new balance\n",
    "            else:\n",
    "                raise Exception(\"Insufficient funds\")\n",
    "        else:\n",
    "            raise Exception(\"Customer has reached the maximum allowed withdraw number\")\n",
    "\n",
    "    def __str__(self):\n",
    "        return f'''Account Class:\n",
    "This Saving Account comes with:\n",
    "An intrest rate of {self._intrest_rate}%, and a minimum starting value of {self._minimum_starting_value}kr.\n",
    "Features include: {self._features}.'''\n"
   ]
  },
  {
   "cell_type": "markdown",
   "metadata": {},
   "source": [
    "## Current Account implementation\n",
    "Now that we have defined the classes for each account type, it is time to write the implementation for each account type."
   ]
  },
  {
   "cell_type": "code",
   "execution_count": 13,
   "metadata": {},
   "outputs": [],
   "source": [
    "class CurrentAccount(Account):\n",
    "    '''Account for daily use'''\n",
    "    __number_of_accounts = 1000 # Hypothetical number to strat the account number from.\n",
    "    _balance = 0.00 # Every balance starts with 0kr in the account\n",
    "    \n",
    "    def __init__(self, customer, account_class):\n",
    "        self._account_number = self.new_account_number() # generating a new account number\n",
    "        self._owner = customer # The owner of the account \n",
    "        self._account_class = account_class # The current account class interface\n",
    "        \n",
    "    @classmethod    \n",
    "    def new_account_number(cls):\n",
    "        cls.__number_of_accounts += 1 # Increase the number of account by one when generating a new account number\n",
    "        new_number = cls.__number_of_accounts\n",
    "        return new_number\n",
    "    \n",
    "    @property\n",
    "    def owner(self):\n",
    "        print(self._owner)\n",
    "        \n",
    "    @property    \n",
    "    def account_class(self):\n",
    "        print(self._account_class) # The current account class \n",
    "        \n",
    "    def get_balance(self):\n",
    "        return self._balance\n",
    "    \n",
    "    def deposit(self, amount):\n",
    "        if amount > 0:\n",
    "            self._balance += amount\n",
    "    \n",
    "    def withdraw(self, amount):\n",
    "        # Account class handles the withdraw process\n",
    "        new_balance = self._account_class.withdraw(self._balance,amount)\n",
    "        self._balance = new_balance\n",
    "            \n",
    "    def __str__(self):\n",
    "        return f'''----- Account Description -----\n",
    "Balance: {self._balance}kr\n",
    "Account_number: {self._account_number}\\n\n",
    "Owner:{self._owner}\\n\n",
    "{self._account_class}\\n\n",
    "----- END OF DESCRIPTION -----\\n'''"
   ]
  },
  {
   "cell_type": "markdown",
   "metadata": {},
   "source": [
    "## Saving Account implementation"
   ]
  },
  {
   "cell_type": "code",
   "execution_count": 14,
   "metadata": {},
   "outputs": [],
   "source": [
    "class SavingAccount(Account):\n",
    "    __number_of_accounts = 2000 # Hypothetical number to strat the account number from.\n",
    "    _balance = 0.00 #Every balance starts with 0kr in the account\n",
    "    \n",
    "    def __init__(self, customer, account_class):\n",
    "        self._account_number = self.new_account_number()\n",
    "        self._owner = customer\n",
    "        self._account_class = account_class\n",
    "        \n",
    "    @classmethod    \n",
    "    def new_account_number(cls):\n",
    "        cls.__number_of_accounts += 1\n",
    "        new_number = cls.__number_of_accounts\n",
    "        return new_number\n",
    "        \n",
    "    @property\n",
    "    def owner(self):\n",
    "        print(self._owner)\n",
    "        \n",
    "    @property    \n",
    "    def account_class(self):\n",
    "        print(self._account_class)# The saving account class \n",
    "        \n",
    "    def get_balance(self):\n",
    "        return self._balance\n",
    "    \n",
    "    def deposit(self, amount):\n",
    "        if amount > 0:\n",
    "            self._balance += amount\n",
    "            \n",
    "     # Account class handles the withdraw process\n",
    "    def withdraw(self, amount):\n",
    "        new_balance = self._account_class.withdraw(self._owner.get_age(), self._balance, amount)\n",
    "        self._balance = new_balance\n",
    "        \n",
    "            \n",
    "    def __str__(self):\n",
    "        return f'''----- Account Description -----\n",
    "Balance: {self._balance}kr\n",
    "Account_number: {self._account_number}\\n\n",
    "Owner:{self._owner}\\n\n",
    "{self._account_class}\\n\n",
    "----- END OF DESCRIPTION -----\\n'''"
   ]
  },
  {
   "cell_type": "code",
   "execution_count": 15,
   "metadata": {},
   "outputs": [
    {
     "name": "stdout",
     "output_type": "stream",
     "text": [
      "CustomerID: 00001\n",
      "First Name:Paul\n",
      "Last Name:jonson \n",
      "Age:28\n",
      "Martial Status: Married\n",
      "Years Of Education:14\n",
      "Annual Salary:250000\n",
      "\n",
      "Account Class:\n",
      "This Current Account comes with:\n",
      "A Silver debit card, and Bronze basic features + Sliver advanced features.\n",
      "With annual fee of 500kr.\n",
      "\n"
     ]
    }
   ],
   "source": [
    "# Current Account\n",
    "account_class = SilverAccount()\n",
    "account = CurrentAccount(customer1,account_class)\n",
    "account.owner\n",
    "account.account_class"
   ]
  },
  {
   "cell_type": "code",
   "execution_count": 16,
   "metadata": {},
   "outputs": [
    {
     "data": {
      "text/plain": [
       "25.0"
      ]
     },
     "execution_count": 16,
     "metadata": {},
     "output_type": "execute_result"
    }
   ],
   "source": [
    "# Test current account methods\n",
    "account.deposit(50)\n",
    "account.get_balance()\n",
    "account.withdraw(25)\n",
    "account.get_balance()"
   ]
  },
  {
   "cell_type": "code",
   "execution_count": 17,
   "metadata": {},
   "outputs": [
    {
     "name": "stdout",
     "output_type": "stream",
     "text": [
      "CustomerID: 00001\n",
      "First Name:Paul\n",
      "Last Name:jonson \n",
      "Age:28\n",
      "Martial Status: Married\n",
      "Years Of Education:14\n",
      "Annual Salary:250000\n",
      "\n",
      "Account Class:\n",
      "This Saving Account comes with:\n",
      "An intrest rate of 0.55%, and a minimum starting value of 1000kr.\n",
      "Features include: Low start value, and ability to withdraw funds multiple times.\n"
     ]
    }
   ],
   "source": [
    "# Saving Account\n",
    "account_class1 = Young()\n",
    "account1 = SavingAccount(customer1, account_class1)\n",
    "account1.owner\n",
    "account1.account_class"
   ]
  },
  {
   "cell_type": "code",
   "execution_count": 18,
   "metadata": {},
   "outputs": [
    {
     "data": {
      "text/plain": [
       "25.0"
      ]
     },
     "execution_count": 18,
     "metadata": {},
     "output_type": "execute_result"
    }
   ],
   "source": [
    "# Test current account methods\n",
    "account1.deposit(50)\n",
    "account1.get_balance()\n",
    "account1.withdraw(25)\n",
    "account1.get_balance()"
   ]
  },
  {
   "cell_type": "markdown",
   "metadata": {},
   "source": [
    "## Problem\n",
    "### Factory pattern\n",
    "As mentioned in the previous section, we need to have consistency in our banking system. We want the Current Account Classes to only be used with the Current Account, and the Saving Account Classes, only used with the Saving Account. To do that we are going to use the Factory pattern. In our demonstration, we are going to use a class factory to manage the instantiate for our account objects. This way we can not only get consistent results, but we can enforce some rules for instantiating some of the accounts classes, for example, having a certain income to open a Current Account with a Gold privilege or class."
   ]
  },
  {
   "cell_type": "markdown",
   "metadata": {},
   "source": [
    "### Account Factory implementation"
   ]
  },
  {
   "cell_type": "code",
   "execution_count": 19,
   "metadata": {},
   "outputs": [],
   "source": [
    "class AccountFactory:\n",
    "    '''Factory to create new accounts'''\n",
    "    def create_current_account(self, customer, account_class):\n",
    "        if account_class.lower() == 'bronze':\n",
    "            account_class = BronzeAccount()\n",
    "            \n",
    "        elif account_class.lower() == 'silver':\n",
    "            if customer.get_annual_salary() >= 150000: # Enforcing rules before allowing the instantiating process\n",
    "                account_class = SilverAccount()\n",
    "            else:\n",
    "                raise Exception('The customer must earn at least 150000kr a year to open a sliver class account')\n",
    "            \n",
    "        elif account_class.lower() == 'gold':\n",
    "            if customer.get_annual_salary() >= 250000: # Enforcing rules before allowing the instantiating process\n",
    "                account_class = GoldAccount()\n",
    "            else:\n",
    "                raise Exception('The customer must earn at least 250000kr a year to open a gold class account')\n",
    "        \n",
    "        else:\n",
    "            raise ValueError('Unknown account class')\n",
    "        \n",
    "        new_account = CurrentAccount(customer, account_class)\n",
    "        return new_account\n",
    "        \n",
    "    def create_saving_account(self, customer, account_class):\n",
    "        if account_class.lower() == 'pension':\n",
    "            account_class = Pension()\n",
    "            \n",
    "        elif account_class.lower() == 'young':\n",
    "            account_class = Young()\n",
    "            \n",
    "        else:\n",
    "            raise ValueError('Unknown account class')\n",
    "            \n",
    "        new_account = SavingAccount(customer, account_class)\n",
    "        return new_account\n",
    "        "
   ]
  },
  {
   "cell_type": "code",
   "execution_count": 20,
   "metadata": {},
   "outputs": [
    {
     "name": "stdout",
     "output_type": "stream",
     "text": [
      "----- Account Description -----\n",
      "Balance: 0.0kr\n",
      "Account_number: 1002\n",
      "\n",
      "Owner:CustomerID: 00001\n",
      "First Name:Paul\n",
      "Last Name:jonson \n",
      "Age:28\n",
      "Martial Status: Married\n",
      "Years Of Education:14\n",
      "Annual Salary:250000\n",
      "\n",
      "\n",
      "Account Class:\n",
      "This Current Account comes with:\n",
      "A Bronze debit card, and Bronze basic features.\n",
      "With annual fee of 300kr.\n",
      "\n",
      "\n",
      "----- END OF DESCRIPTION -----\n",
      "\n",
      "----- Account Description -----\n",
      "Balance: 0.0kr\n",
      "Account_number: 1003\n",
      "\n",
      "Owner:CustomerID: 00001\n",
      "First Name:Paul\n",
      "Last Name:jonson \n",
      "Age:28\n",
      "Martial Status: Married\n",
      "Years Of Education:14\n",
      "Annual Salary:250000\n",
      "\n",
      "\n",
      "Account Class:\n",
      "This Current Account comes with:\n",
      "A Silver debit card, and Bronze basic features + Sliver advanced features.\n",
      "With annual fee of 500kr.\n",
      "\n",
      "\n",
      "----- END OF DESCRIPTION -----\n",
      "\n",
      "----- Account Description -----\n",
      "Balance: 0.0kr\n",
      "Account_number: 1004\n",
      "\n",
      "Owner:CustomerID: 00001\n",
      "First Name:Paul\n",
      "Last Name:jonson \n",
      "Age:28\n",
      "Martial Status: Married\n",
      "Years Of Education:14\n",
      "Annual Salary:250000\n",
      "\n",
      "\n",
      "Account Class:\n",
      "This Current Account comes with:\n",
      "A Gold debit card, and Bronze basic features + Sliver advanced features, and Gold ultimate features.\n",
      "With annual fee of 1000.0kr.\n",
      "\n",
      "\n",
      "----- END OF DESCRIPTION -----\n",
      "\n",
      "----- Account Description -----\n",
      "Balance: 0.0kr\n",
      "Account_number: 2002\n",
      "\n",
      "Owner:CustomerID: 00001\n",
      "First Name:Paul\n",
      "Last Name:jonson \n",
      "Age:28\n",
      "Martial Status: Married\n",
      "Years Of Education:14\n",
      "Annual Salary:250000\n",
      "\n",
      "\n",
      "Account Class:\n",
      "This Saving Account comes with:\n",
      "An intrest rate of 0.35%, and a minimum starting value of 10000kr.\n",
      "Features include: Fixed income funds, and 101% of insured value in the event of the death of the account holder.\n",
      "\n",
      "----- END OF DESCRIPTION -----\n",
      "\n",
      "----- Account Description -----\n",
      "Balance: 0.0kr\n",
      "Account_number: 2003\n",
      "\n",
      "Owner:CustomerID: 00001\n",
      "First Name:Paul\n",
      "Last Name:jonson \n",
      "Age:28\n",
      "Martial Status: Married\n",
      "Years Of Education:14\n",
      "Annual Salary:250000\n",
      "\n",
      "\n",
      "Account Class:\n",
      "This Saving Account comes with:\n",
      "An intrest rate of 0.55%, and a minimum starting value of 1000kr.\n",
      "Features include: Low start value, and ability to withdraw funds multiple times.\n",
      "\n",
      "----- END OF DESCRIPTION -----\n",
      "\n"
     ]
    }
   ],
   "source": [
    "# Factory demo\n",
    "factory = AccountFactory()\n",
    "account1 = factory.create_current_account(customer1, 'bronze')\n",
    "account2 = factory.create_current_account(customer1, 'silver')\n",
    "account3 = factory.create_current_account(customer1, 'gold')\n",
    "account4 = factory.create_saving_account(customer1, 'pension')\n",
    "account5 = factory.create_saving_account(customer1, 'young')\n",
    "print(account1)\n",
    "print(account2)\n",
    "print(account3)\n",
    "print(account4)\n",
    "print(account5)"
   ]
  },
  {
   "cell_type": "markdown",
   "metadata": {},
   "source": [
    "## Loan\n",
    "Loans are another product that the bank will offer to its customers. Loans are much more complex than accounts as there are specific calculations to determine the allowed loan amount and the interest rate for each customer. To solve this complexity, we are going to use the strategy pattern to separate the ways to calculate each aspect of the loan. This will reduce the complexity of the implementation and open the door for an easy extension process in the future. We will need two strategy patterns, one for the Loan amount, and one for the interest rate."
   ]
  },
  {
   "cell_type": "markdown",
   "metadata": {},
   "source": [
    "### Loan Amount strategy\n",
    "This strategy will determent the amount of loan the customer will get depending on various factors. Each interface will cover one aspect that will affect the loan amount, and then it will give it a factor number that will be used in each loan implementation(HomeLoan, CarLoan) to determent the granted loan amount."
   ]
  },
  {
   "cell_type": "code",
   "execution_count": 36,
   "metadata": {},
   "outputs": [],
   "source": [
    "class LoanAmountStrategy(metaclass = ABCMeta):\n",
    "    '''Concept of calculating the loan amount'''\n",
    "    @abstractmethod\n",
    "    def calculate(self):\n",
    "        pass"
   ]
  },
  {
   "cell_type": "markdown",
   "metadata": {},
   "source": [
    "### Loan amount Interfaces"
   ]
  },
  {
   "cell_type": "code",
   "execution_count": 22,
   "metadata": {},
   "outputs": [],
   "source": [
    "class BasedOnAge(LoanAmountStrategy):\n",
    "    '''Calculate the loan amount based on customer's age'''\n",
    "    def calculate(customer):\n",
    "        if customer.get_age() >= 18 and customer.get_age() < 30 :\n",
    "            factor = 1 # full. lower is better\n",
    "            return factor\n",
    "        \n",
    "        if customer.get_age() >= 30 and customer.get_age() < 50 :\n",
    "            factor = 2 # Half\n",
    "            return factor\n",
    "        \n",
    "        if customer.get_age() > 50 :\n",
    "            factor = 4 # Quarter\n",
    "            return factor\n",
    "        \n",
    "\n",
    "class BasedOnIncome(LoanAmountStrategy):\n",
    "    '''Calculate the loan amount based on the customer's income'''\n",
    "    def calculate(customer):\n",
    "        if customer.get_annual_salary() < 120000:\n",
    "            factor = 4 # Quarter\n",
    "            return factor\n",
    "            \n",
    "        elif customer.get_annual_salary() >= 120000 and customer.get_annual_salary() < 240000:\n",
    "            factor = 2 # Half\n",
    "            return factor\n",
    "            \n",
    "        elif customer.get_annual_salary() >= 240000:\n",
    "            factor = 1 \n",
    "            return factor\n",
    "        \n",
    "class BasedOnMartiualStatus(LoanAmountStrategy):\n",
    "    '''Calculate the loan amount based on the customer's Martiual status'''\n",
    "    def calculate(customer):\n",
    "        if customer.get_marital_status() == 'single':\n",
    "            factor = 2 # Half\n",
    "            return factor\n",
    "            \n",
    "        elif customer.get_marital_status() == 'married':\n",
    "            factor = 1 # Full \n",
    "            return factor"
   ]
  },
  {
   "cell_type": "markdown",
   "metadata": {},
   "source": [
    "### Interest-rate strategy\n",
    "This strategy will determent the Interest-rate the customer will get depending on various factors. Each interface will cover one aspect that will affect the Interest-rate, and then it will give it a factor number that will be used in each loan implementation (HomeLoan, CarLoan) to determent the final Interest-rate."
   ]
  },
  {
   "cell_type": "code",
   "execution_count": 37,
   "metadata": {},
   "outputs": [],
   "source": [
    "class LoanIntrestRateStratagy(metaclass = ABCMeta):\n",
    "    '''The concept of calculating the interest rate'''\n",
    "    @abstractmethod\n",
    "    def calculate(self):\n",
    "        pass"
   ]
  },
  {
   "cell_type": "markdown",
   "metadata": {},
   "source": [
    "### Interest-rate Interfaces"
   ]
  },
  {
   "cell_type": "code",
   "execution_count": 38,
   "metadata": {},
   "outputs": [],
   "source": [
    "class BasedOnDuration(LoanIntrestRateStratagy):\n",
    "    '''Calculate the interest-rate based on the duration'''\n",
    "    def calculate(duration):\n",
    "        if duration <= 3: # Number in years, higher is better\n",
    "            factor = 1 # factor number, higher is better\n",
    "            return factor\n",
    "            \n",
    "        elif duration > 3 and duration < 10:\n",
    "            factor = 2\n",
    "            return factor\n",
    "            \n",
    "        elif duration >= 10 and duration < 20:\n",
    "            factor = 3\n",
    "            return factor\n",
    "            \n",
    "        elif duration >= 20 and duration < 30:\n",
    "            factor = 4\n",
    "            return factor\n",
    "    \n",
    "class BasedOnDeposit(LoanIntrestRateStratagy):\n",
    "    '''Calculate the interest-rate based on the deposit percentage'''\n",
    "    def calculate(deposit):\n",
    "        if deposit < 10: # deposit percentage of the loan\n",
    "            factor = 1\n",
    "            return factor\n",
    "        \n",
    "        elif deposit >= 10 and deposit < 20:\n",
    "            factor = 2\n",
    "            return factor\n",
    "            \n",
    "        elif deposit >= 20 and deposit < 30:\n",
    "            factor = 3\n",
    "            return factor\n",
    "            \n",
    "        elif deposit >= 30 and deposit < 40:\n",
    "            factor = 4\n",
    "            return factor\n",
    "\n",
    "class BasedOnEducation(LoanIntrestRateStratagy):\n",
    "    '''Calculate the interest-rate based on the education as bouns'''\n",
    "    def calculate(customer):\n",
    "        if customer.get_education_years() < 12:\n",
    "            factor = 0 # No extra bouns added.\n",
    "            return factor\n",
    "        \n",
    "        elif customer.get_education_years() >= 12 and customer.get_education_years() < 15:\n",
    "            factor = 1\n",
    "            return factor\n",
    "            \n",
    "        elif customer.get_education_years() >= 15:\n",
    "            factor = 2 # Higher is better\n",
    "            return factor"
   ]
  },
  {
   "cell_type": "markdown",
   "metadata": {},
   "source": [
    "### Abstract loan\n",
    "Just like before we are going to define the concept of a loan in the banking system to determine what to expect from any loan the bank will implement."
   ]
  },
  {
   "cell_type": "code",
   "execution_count": 25,
   "metadata": {},
   "outputs": [],
   "source": [
    "class AbstractLoan(metaclass = ABCMeta):\n",
    "    '''The consept of a loan in the banking system'''\n",
    "    @abstractmethod\n",
    "    def __init__(self, customer, loan_amount, period, deposit_percentage):\n",
    "        pass\n",
    "    \n",
    "    # The amount of loan the customer is qualified for\n",
    "    @abstractmethod\n",
    "    def calculate_allowed_loan_amount(self):\n",
    "        pass\n",
    "    \n",
    "    @abstractmethod\n",
    "    def calculate_intrest_rate(self):\n",
    "        pass\n",
    "    \n",
    "    # The loan that the bank will grant the customer.\n",
    "    @abstractmethod\n",
    "    def granted_loan(self):\n",
    "        pass\n",
    "    \n",
    "    # Pay back the loan to the bank\n",
    "    @abstractmethod\n",
    "    def pay_back_loan(self):\n",
    "        pass\n",
    "    \n",
    "    @abstractmethod\n",
    "    def __str__(self):\n",
    "        pass"
   ]
  },
  {
   "cell_type": "markdown",
   "metadata": {},
   "source": [
    "### Loan implementation\n",
    "As mentioned earlier, loans are much more complex compared to accounts and do have different ways to calculate factors. That is why it is best to keep the classes separated even if they do have some similarities.  It is possible to merge the calculation methods into one method, but that will mean less flexibility for other types of loans if the bank decides to introduce new loan classes later."
   ]
  },
  {
   "cell_type": "code",
   "execution_count": 26,
   "metadata": {},
   "outputs": [],
   "source": [
    "class Loan(AbstractLoan):\n",
    "    '''Loan implementation in the banking system'''\n",
    "    def __init__(self, customer, loan_class ,requested_loan_amount, duration, deposit_percentage):\n",
    "        self._customer = customer # The debtor\n",
    "        self._loan_class = loan_class\n",
    "        self._requested_loan_amount = requested_loan_amount # The loan amount that the customer requested\n",
    "        self._deposit_percentage = deposit_percentage # The percentage that the customer has of the loan\n",
    "        self._duration = duration # The loan duration\n",
    "        \n",
    "        # Methods to calculate different aspects of the loan \n",
    "        self._allowed_loan_amount = self.calculate_allowed_loan_amount()  # The loan amount that the customer is qualified for\n",
    "        self._granted_loan_amount = self.granted_loan() # The loan amount that the customer got \n",
    "        self._intrest_rate = self.calculate_intrest_rate() # Calculating the interest-rate\n",
    "        \n",
    "        # Attributes that will be updated after the instantiation process\n",
    "        self._remaining_loan = self._granted_loan_amount # The remaining of loan.\n",
    "        self._paid_back = 0 # The amount that been paid back.\n",
    "        \n",
    "    \n",
    "    def calculate_allowed_loan_amount(self):\n",
    "        factor = BasedOnAge.calculate(self._customer)\n",
    "        factor += BasedOnIncome.calculate(self._customer)\n",
    "        factor += BasedOnMartiualStatus.calculate(self._customer)\n",
    "        average_factor = factor/3 # Dividing the factor number on the number of factors\n",
    "        granted_loan_amount = self._loan_class.max_loan/average_factor\n",
    "        return granted_loan_amount\n",
    "    \n",
    "    def calculate_intrest_rate(self):\n",
    "        factor = BasedOnDuration.calculate(self._duration)\n",
    "        factor += BasedOnDeposit.calculate(self._deposit_percentage)\n",
    "        factor += BasedOnEducation.calculate(self._customer) # This works as a bouns no added factors number\n",
    "        average_factor = factor/2 # Dividing the factor number on the number of factors\n",
    "        intrest_rate = self._loan_class.interest_rate/average_factor\n",
    "        return intrest_rate\n",
    "    \n",
    "    def granted_loan(self):\n",
    "        if self._requested_loan_amount <= self._allowed_loan_amount:\n",
    "            granted_loan = self._requested_loan_amount\n",
    "            return granted_loan\n",
    "        \n",
    "        elif self._requested_loan_amount > self._allowed_loan_amount:\n",
    "            granted_loan = self._allowed_loan_amount - self._requested_loan_amount\n",
    "            return granted_loan\n",
    "        \n",
    "    def pay_back_loan(self, amount):\n",
    "        if self._paid_back < self._granted_loan_amount:\n",
    "            self._remaining_loan = self._granted_loan_amount - amount\n",
    "            self._paid_back += amount\n",
    "            \n",
    "        elif self._paid_back == self._granted_loan_amount:\n",
    "            raise Exception('The loan has been paid up')\n",
    "            \n",
    "        elif self._paid_back > self._granted_loan_amount:\n",
    "            extra = self._paid_back - self._granted_loan_amount\n",
    "            raise Exception(f'The loan has been paid up with an extra {extra}kr')\n",
    "    \n",
    "    def __str__(self):\n",
    "        return f'''---- Loan Description ----\n",
    "This loan has been granted to:\n",
    "{self._customer}\\n\n",
    "{self._loan_class}\n",
    "Requested loan amount: {self._requested_loan_amount}\n",
    "Allowed loan amount: {self._allowed_loan_amount}\n",
    "Granted loan amount: {self._granted_loan_amount}\n",
    "Intrest rate: {self._intrest_rate}\n",
    "Duration: {self._duration} years\n",
    "Paid back amount: {self._paid_back}\n",
    "Remaining amount {self._remaining_loan}'''\n",
    "        "
   ]
  },
  {
   "cell_type": "markdown",
   "metadata": {},
   "source": [
    "Here we are again, favoring composition over inheritance. This means that we can add new Loan classes without the need to change anything in the Loan class. So our code will be open for extension but closed for modification."
   ]
  },
  {
   "cell_type": "code",
   "execution_count": 27,
   "metadata": {},
   "outputs": [],
   "source": [
    "class HomeLoan:\n",
    "    '''Represent a home loan in the banking system'''\n",
    "    def __init__(self):\n",
    "        self._base_intrest_rate = 2.5 # A base intrest rate for all home loans\n",
    "        self._loan_max_amount = 5000000 # The max loan amount that the bank will give each customer\n",
    "        \n",
    "    @property    \n",
    "    def interest_rate(self):\n",
    "        return self._base_intrest_rate\n",
    "    \n",
    "    @property    \n",
    "    def max_loan(self):\n",
    "        return self._loan_max_amount\n",
    "    \n",
    "    def __str__(self):\n",
    "        return 'Loan class: Home Loan'\n",
    "    \n",
    "\n",
    "class CarLoan:\n",
    "    '''Represent a home loan in the banking system'''\n",
    "    def __init__(self):\n",
    "        self._base_intrest_rate = 11.5 #A base intrest rate for all home loans\n",
    "        self._loan_max_amount = 500000 # The max loan amount that the bank will give each customer\n",
    "        \n",
    "    @property    \n",
    "    def interest_rate(self):\n",
    "        return self._base_intrest_rate\n",
    "    \n",
    "    @property    \n",
    "    def max_loan(self):\n",
    "        return self._loan_max_amount\n",
    "    \n",
    "    def __str__(self):\n",
    "        return 'Loan class: Car Loan'\n"
   ]
  },
  {
   "cell_type": "markdown",
   "metadata": {},
   "source": [
    "### Loan Factory\n",
    "Just like before, having a factory class, will give us consistent results, and will give us the ability to enforce rules for creating new objects before instantiating them."
   ]
  },
  {
   "cell_type": "code",
   "execution_count": 28,
   "metadata": {},
   "outputs": [],
   "source": [
    "class LoanFactory:\n",
    "    '''Factory to create loans'''\n",
    "    def create_home_loan(self, customer, requested_loan_amount, duration, deposit_percentage):\n",
    "        if deposit_percentage >= 10: # A deposit is required for a home loan\n",
    "            if customer.get_age() <= 50: # Customers that are 50 or younger can apply to all types of loans\n",
    "                loan_class = HomeLoan()\n",
    "                new_loan = Loan(customer,loan_class ,requested_loan_amount, duration, deposit_percentage)\n",
    "                return new_loan\n",
    "            \n",
    "            elif customer.get_age() > 50: # Customers whom are older than 50 have some loan restrictions\n",
    "                if duration <= 20:\n",
    "                    new_loan = Loan(customer, requested_loan_amount, duration, deposit_percentage)\n",
    "                    return new_loan\n",
    "                \n",
    "                else:\n",
    "                    raise Exception('Customers whom are older than 50 can only apply for loans that are no longer than 20 years.')\n",
    "        \n",
    "        else:\n",
    "            raise Exception('The customer must deposit at least 10% of the requested loan to apply for a home loan')\n",
    "    \n",
    "    def create_car_loan(self, customer, requested_loan_amount, duration, deposit_percentage=0):\n",
    "        if duration <= 5: # Enforcing max 5 years for car loans\n",
    "            loan_class = CarLoan()\n",
    "            new_loan = Loan(customer,loan_class, requested_loan_amount, duration, deposit_percentage)\n",
    "            return new_loan\n",
    "        else:\n",
    "            raise Exception('The maximum duration for a car loan is 5 years')"
   ]
  },
  {
   "cell_type": "code",
   "execution_count": 29,
   "metadata": {},
   "outputs": [],
   "source": [
    "factory = LoanFactory()\n",
    "loan1 = factory.create_home_loan(customer1, 400000, 1, 10)"
   ]
  },
  {
   "cell_type": "code",
   "execution_count": 30,
   "metadata": {},
   "outputs": [
    {
     "name": "stdout",
     "output_type": "stream",
     "text": [
      "---- Loan Description ----\n",
      "This loan has been granted to:\n",
      "CustomerID: 00001\n",
      "First Name:Paul\n",
      "Last Name:jonson \n",
      "Age:28\n",
      "Martial Status: Married\n",
      "Years Of Education:14\n",
      "Annual Salary:250000\n",
      "\n",
      "\n",
      "Loan class: Home Loan\n",
      "Requested loan amount: 400000\n",
      "Allowed loan amount: 5000000.0\n",
      "Granted loan amount: 400000\n",
      "Intrest rate: 1.25\n",
      "Duration: 1 years\n",
      "Paid back amount: 0\n",
      "Remaining amount 400000\n"
     ]
    }
   ],
   "source": [
    "print(loan1)"
   ]
  },
  {
   "cell_type": "code",
   "execution_count": 31,
   "metadata": {},
   "outputs": [],
   "source": [
    "loan2 = factory.create_car_loan(customer3, 40000, 5)"
   ]
  },
  {
   "cell_type": "code",
   "execution_count": 32,
   "metadata": {},
   "outputs": [
    {
     "name": "stdout",
     "output_type": "stream",
     "text": [
      "---- Loan Description ----\n",
      "This loan has been granted to:\n",
      "CustomerID: 00003\n",
      "First Name:Jon\n",
      "Last Name:Doea \n",
      "Age:51\n",
      "Martial Status: Married\n",
      "Years Of Education:11\n",
      "Annual Salary:320000\n",
      "\n",
      "\n",
      "Loan class: Car Loan\n",
      "Requested loan amount: 40000\n",
      "Allowed loan amount: 250000.0\n",
      "Granted loan amount: 40000\n",
      "Intrest rate: 7.666666666666667\n",
      "Duration: 5 years\n",
      "Paid back amount: 0\n",
      "Remaining amount 40000\n"
     ]
    }
   ],
   "source": [
    "print(loan2)"
   ]
  }
 ],
 "metadata": {
  "kernelspec": {
   "display_name": "Python 3 (ipykernel)",
   "language": "python",
   "name": "python3"
  },
  "language_info": {
   "codemirror_mode": {
    "name": "ipython",
    "version": 3
   },
   "file_extension": ".py",
   "mimetype": "text/x-python",
   "name": "python",
   "nbconvert_exporter": "python",
   "pygments_lexer": "ipython3",
   "version": "3.9.12"
  }
 },
 "nbformat": 4,
 "nbformat_minor": 4
}
